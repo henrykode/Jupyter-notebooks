{
 "cells": [
  {
   "cell_type": "code",
   "execution_count": 1,
   "metadata": {},
   "outputs": [
    {
     "data": {
      "text/html": [
       "<b><i>Insert your function</i>:</b>"
      ],
      "text/plain": [
       "<IPython.core.display.HTML object>"
      ]
     },
     "metadata": {},
     "output_type": "display_data"
    },
    {
     "data": {
      "application/vnd.jupyter.widget-view+json": {
       "model_id": "199003b792ee46e4a4dc0a3b862e2d86",
       "version_major": 2,
       "version_minor": 0
      },
      "text/html": [
       "<p>Failed to display Jupyter Widget of type <code>Text</code>.</p>\n",
       "<p>\n",
       "  If you're reading this message in the Jupyter Notebook or JupyterLab Notebook, it may mean\n",
       "  that the widgets JavaScript is still loading. If this message persists, it\n",
       "  likely means that the widgets JavaScript library is either not installed or\n",
       "  not enabled. See the <a href=\"https://ipywidgets.readthedocs.io/en/stable/user_install.html\">Jupyter\n",
       "  Widgets Documentation</a> for setup instructions.\n",
       "</p>\n",
       "<p>\n",
       "  If you're reading this message in another frontend (for example, a static\n",
       "  rendering on GitHub or <a href=\"https://nbviewer.jupyter.org/\">NBViewer</a>),\n",
       "  it may mean that your frontend doesn't currently support widgets.\n",
       "</p>\n"
      ],
      "text/plain": [
       "Text(value='', description='y = ', placeholder='Type some function')"
      ]
     },
     "metadata": {},
     "output_type": "display_data"
    }
   ],
   "source": [
    "from sympy import *\n",
    "from IPython.core.display import display, HTML\n",
    "import ipywidgets as widgets\n",
    "init_printing(use_latex = True)\n",
    "\n",
    "x, y = symbols('x, y')\n",
    "funcInput = widgets.Text(\n",
    "    value='',\n",
    "    placeholder='Type some function',\n",
    "    description='y = ',\n",
    "    disabled=False\n",
    ")\n",
    "display(HTML(\"<b><i>Insert your function</i>:</b>\"))\n",
    "display(funcInput)"
   ]
  },
  {
   "cell_type": "code",
   "execution_count": 25,
   "metadata": {},
   "outputs": [
    {
     "data": {
      "text/html": [
       "<b><i>Function:"
      ],
      "text/plain": [
       "<IPython.core.display.HTML object>"
      ]
     },
     "metadata": {},
     "output_type": "display_data"
    },
    {
     "data": {
      "image/png": "[encoded data removed]",
      "text/latex": [
       "$$y = \\frac{x^{3} + x}{x^{2} - 1}$$"
      ],
      "text/plain": [
       "     3    \n",
       "    x  + x\n",
       "y = ──────\n",
       "     2    \n",
       "    x  - 1"
      ]
     },
     "metadata": {},
     "output_type": "display_data"
    },
    {
     "data": {
      "text/html": [
       "<b><i>Simplify:"
      ],
      "text/plain": [
       "<IPython.core.display.HTML object>"
      ]
     },
     "metadata": {},
     "output_type": "display_data"
    },
    {
     "data": {
      "image/png": "[encoded data removed]",
      "text/latex": [
       "$$y = \\frac{x \\left(x^{2} + 1\\right)}{x^{2} - 1}$$"
      ],
      "text/plain": [
       "      ⎛ 2    ⎞\n",
       "    x⋅⎝x  + 1⎠\n",
       "y = ──────────\n",
       "       2      \n",
       "      x  - 1  "
      ]
     },
     "metadata": {},
     "output_type": "display_data"
    }
   ],
   "source": [
    "f=eval(funcInput.value)\n",
    "display(HTML(\"<b><i>Function:\"))\n",
    "display(Eq(y,f))\n",
    "\n",
    "display(HTML(\"<b><i>Simplify:\"))\n",
    "#f = simplify(f)\n",
    "display(Eq(y,simplify(f)))"
   ]
  },
  {
   "cell_type": "code",
   "execution_count": 26,
   "metadata": {},
   "outputs": [
    {
     "data": {
      "image/png": "[encoded data removed]",
      "text/plain": [
       "<matplotlib.figure.Figure at 0x7f457fdf4e80>"
      ]
     },
     "metadata": {},
     "output_type": "display_data"
    },
    {
     "data": {
      "text/html": [
       "<b><i>Intersection x-axis (f(x)=0): </i></b>"
      ],
      "text/plain": [
       "<IPython.core.display.HTML object>"
      ]
     },
     "metadata": {},
     "output_type": "display_data"
    },
    {
     "data": {
      "image/png": "[encoded data removed]",
      "text/latex": [
       "$$\\left [ \\left \\{ x : 0, \\quad y : 0\\right \\}, \\quad \\left \\{ x : - i, \\quad y : 0\\right \\}, \\quad \\left \\{ x : i, \\quad y : 0\\right \\}\\right ]$$"
      ],
      "text/plain": [
       "[{x: 0, y: 0}, {x: -ⅈ, y: 0}, {x: ⅈ, y: 0}]"
      ]
     },
     "metadata": {},
     "output_type": "display_data"
    },
    {
     "data": {
      "text/html": [
       "<b><i>Intersection y-axis (f(0)): </i></b>"
      ],
      "text/plain": [
       "<IPython.core.display.HTML object>"
      ]
     },
     "metadata": {},
     "output_type": "display_data"
    },
    {
     "data": {
      "image/png": "[encoded data removed]",
      "text/latex": [
       "$$\\left [ \\left \\{ x : 0, \\quad y : 0\\right \\}\\right ]$$"
      ],
      "text/plain": [
       "[{x: 0, y: 0}]"
      ]
     },
     "metadata": {},
     "output_type": "display_data"
    },
    {
     "data": {
      "text/html": [
       "<b><i>Study sign (f(x)>0): </i></b>"
      ],
      "text/plain": [
       "<IPython.core.display.HTML object>"
      ]
     },
     "metadata": {},
     "output_type": "display_data"
    },
    {
     "data": {
      "image/png": "[encoded data removed]",
      "text/latex": [
       "$$\\left(-1 < x \\wedge x < 0\\right) \\vee \\left(1 < x \\wedge x < \\infty\\right)$$"
      ],
      "text/plain": [
       "(-1 < x ∧ x < 0) ∨ (1 < x ∧ x < ∞)"
      ]
     },
     "metadata": {},
     "output_type": "display_data"
    }
   ],
   "source": [
    "xlim=(-5, 5)\n",
    "ylim=(-5, 5)\n",
    "xlabel=\"x\"\n",
    "ylabel=\"\"\n",
    "plot(f, title=\"y=f(x)\", xlabel=xlabel, ylabel=ylabel, xlim=xlim, ylim=ylim)\n",
    "display(HTML('<b><i>Intersection x-axis (f(x)=0): </i></b>'))\n",
    "display(solve([y-f, y]))\n",
    "display(HTML('<b><i>Intersection y-axis (f(0)): </i></b>'))\n",
    "display(solve([y-f, x]))\n",
    "display(HTML('<b><i>Study sign (f(x)>0): </i></b>'))\n",
    "display(solve(f>0))"
   ]
  },
  {
   "cell_type": "code",
   "execution_count": 27,
   "metadata": {},
   "outputs": [
    {
     "data": {
      "text/html": [
       "<b><i>Vertical asymptotes x=:</i></b>"
      ],
      "text/plain": [
       "<IPython.core.display.HTML object>"
      ]
     },
     "metadata": {},
     "output_type": "display_data"
    },
    {
     "data": {
      "image/png": "[encoded data removed]",
      "text/latex": [
       "$$\\infty$$"
      ],
      "text/plain": [
       "∞"
      ]
     },
     "metadata": {},
     "output_type": "display_data"
    },
    {
     "data": {
      "image/png": "[encoded data removed]",
      "text/latex": [
       "$$\\infty$$"
      ],
      "text/plain": [
       "∞"
      ]
     },
     "metadata": {},
     "output_type": "display_data"
    },
    {
     "data": {
      "text/html": [
       "<b><i>Horizontal asymptotes y=:</i></b>"
      ],
      "text/plain": [
       "<IPython.core.display.HTML object>"
      ]
     },
     "metadata": {},
     "output_type": "display_data"
    },
    {
     "data": {
      "image/png": "[encoded data removed]",
      "text/latex": [
       "$$\\infty$$"
      ],
      "text/plain": [
       "∞"
      ]
     },
     "metadata": {},
     "output_type": "display_data"
    },
    {
     "data": {
      "image/png": "[encoded data removed]",
      "text/latex": [
       "$$-\\infty$$"
      ],
      "text/plain": [
       "-∞"
      ]
     },
     "metadata": {},
     "output_type": "display_data"
    },
    {
     "data": {
      "text/html": [
       "<b><i>Oblique asymptotes y=mx+q:</i></b>"
      ],
      "text/plain": [
       "<IPython.core.display.HTML object>"
      ]
     },
     "metadata": {},
     "output_type": "display_data"
    },
    {
     "data": {
      "text/html": [
       "<b><i>m:</i></b>"
      ],
      "text/plain": [
       "<IPython.core.display.HTML object>"
      ]
     },
     "metadata": {},
     "output_type": "display_data"
    },
    {
     "data": {
      "image/png": "[encoded data removed]",
      "text/latex": [
       "$$1$$"
      ],
      "text/plain": [
       "1"
      ]
     },
     "metadata": {},
     "output_type": "display_data"
    },
    {
     "data": {
      "text/html": [
       "<b><i>q:</i></b>"
      ],
      "text/plain": [
       "<IPython.core.display.HTML object>"
      ]
     },
     "metadata": {},
     "output_type": "display_data"
    },
    {
     "data": {
      "image/png": "[encoded data removed]",
      "text/latex": [
       "$$0$$"
      ],
      "text/plain": [
       "0"
      ]
     },
     "metadata": {},
     "output_type": "display_data"
    }
   ],
   "source": [
    "display(HTML('<b><i>Vertical asymptotes x=:</i></b>'))\n",
    "display(limit(f,x,-1))\n",
    "display(limit(f,x,1))\n",
    "\n",
    "display(HTML('<b><i>Horizontal asymptotes y=:</i></b>'))\n",
    "display(limit(f,x,+oo))\n",
    "display(limit(f,x,-oo))\n",
    "\n",
    "display(HTML('<b><i>Oblique asymptotes y=mx+q:</i></b>'))\n",
    "m = limit(f/x,x,+oo)\n",
    "display(HTML('<b><i>m:</i></b>'))\n",
    "display(m)\n",
    "q = limit(f-m*x,x,+oo)\n",
    "display(HTML('<b><i>q:</i></b>'))\n",
    "display(q)"
   ]
  },
  {
   "cell_type": "code",
   "execution_count": 28,
   "metadata": {},
   "outputs": [
    {
     "data": {
      "image/png": "[encoded data removed]",
      "text/latex": [
       "$$y' = \\frac{x^{4} - 4 x^{2} - 1}{x^{4} - 2 x^{2} + 1}$$"
      ],
      "text/plain": [
       "      4      2    \n",
       "     x  - 4⋅x  - 1\n",
       "y' = ─────────────\n",
       "      4      2    \n",
       "     x  - 2⋅x  + 1"
      ]
     },
     "metadata": {},
     "output_type": "display_data"
    },
    {
     "data": {
      "text/html": [
       "<b><i>f'(x)=0</i></b>"
      ],
      "text/plain": [
       "<IPython.core.display.HTML object>"
      ]
     },
     "metadata": {},
     "output_type": "display_data"
    },
    {
     "data": {
      "image/png": "[encoded data removed]",
      "text/latex": [
       "$$\\left [ \\left \\{ x : - i \\sqrt{-2 + \\sqrt{5}}, \\quad y : 0\\right \\}, \\quad \\left \\{ x : i \\sqrt{-2 + \\sqrt{5}}, \\quad y : 0\\right \\}, \\quad \\left \\{ x : - \\sqrt{2 + \\sqrt{5}}, \\quad y : 0\\right \\}, \\quad \\left \\{ x : \\sqrt{2 + \\sqrt{5}}, \\quad y : 0\\right \\}\\right ]$$"
      ],
      "text/plain": [
       "⎡⎧        _________      ⎫  ⎧       _________      ⎫  ⎧      ________      ⎫  \n",
       "⎢⎨x: -ⅈ⋅╲╱ -2 + √5 , y: 0⎬, ⎨x: ⅈ⋅╲╱ -2 + √5 , y: 0⎬, ⎨x: -╲╱ 2 + √5 , y: 0⎬, \n",
       "⎣⎩                       ⎭  ⎩                      ⎭  ⎩                    ⎭  \n",
       "\n",
       "⎧     ________      ⎫⎤\n",
       "⎨x: ╲╱ 2 + √5 , y: 0⎬⎥\n",
       "⎩                   ⎭⎦"
      ]
     },
     "metadata": {},
     "output_type": "display_data"
    },
    {
     "data": {
      "text/html": [
       "<b><i>f'(x)>0</i></b>"
      ],
      "text/plain": [
       "<IPython.core.display.HTML object>"
      ]
     },
     "metadata": {},
     "output_type": "display_data"
    },
    {
     "data": {
      "image/png": "[encoded data removed]",
      "text/latex": [
       "$$\\left(-\\infty < x \\wedge x < \\operatorname{CRootOf} {\\left(x^{4} - 4 x^{2} - 1, 0\\right)}\\right) \\vee \\left(x < \\infty \\wedge \\operatorname{CRootOf} {\\left(x^{4} - 4 x^{2} - 1, 1\\right)} < x\\right)$$"
      ],
      "text/plain": [
       "⎛                    ⎛ 4      2       ⎞⎞   ⎛               ⎛ 4      2       ⎞ \n",
       "⎝-∞ < x ∧ x < CRootOf⎝x  - 4⋅x  - 1, 0⎠⎠ ∨ ⎝x < ∞ ∧ CRootOf⎝x  - 4⋅x  - 1, 1⎠ \n",
       "\n",
       "   ⎞\n",
       "< x⎠"
      ]
     },
     "metadata": {},
     "output_type": "display_data"
    },
    {
     "data": {
      "image/png": "[encoded data removed]",
      "text/plain": [
       "<matplotlib.figure.Figure at 0x7f4538305278>"
      ]
     },
     "metadata": {},
     "output_type": "display_data"
    },
    {
     "data": {
      "text/plain": [
       "<sympy.plotting.plot.Plot at 0x7f45383051d0>"
      ]
     },
     "execution_count": 28,
     "metadata": {},
     "output_type": "execute_result"
    }
   ],
   "source": [
    "y_first = symbols(\"y'\")\n",
    "Df = simplify(diff(f))\n",
    "display(Eq(y_first,Df))\n",
    "display(HTML(\"<b><i>f'(x)=0</i></b>\"))\n",
    "display(solve([y-Df, y]))\n",
    "display(HTML(\"<b><i>f'(x)>0</i></b>\"))\n",
    "display(solve(Df>0))\n",
    "plot(Df,title=\"y=f'(x)\", xlabel=xlabel, ylabel=ylabel, xlim=xlim, ylim=ylim)"
   ]
  },
  {
   "cell_type": "code",
   "execution_count": 29,
   "metadata": {},
   "outputs": [
    {
     "data": {
      "image/png": "[encoded data removed]",
      "text/latex": [
       "$$y'' = \\frac{4 x \\left(x^{2} + 3\\right)}{x^{6} - 3 x^{4} + 3 x^{2} - 1}$$"
      ],
      "text/plain": [
       "              ⎛ 2    ⎞    \n",
       "          4⋅x⋅⎝x  + 3⎠    \n",
       "y'' = ────────────────────\n",
       "       6      4      2    \n",
       "      x  - 3⋅x  + 3⋅x  - 1"
      ]
     },
     "metadata": {},
     "output_type": "display_data"
    },
    {
     "data": {
      "text/html": [
       "<b><i>f''(x)=0</i></b>"
      ],
      "text/plain": [
       "<IPython.core.display.HTML object>"
      ]
     },
     "metadata": {},
     "output_type": "display_data"
    },
    {
     "data": {
      "image/png": "[encoded data removed]",
      "text/latex": [
       "$$\\left [ \\left \\{ x : 0, \\quad y : 0\\right \\}, \\quad \\left \\{ x : - \\sqrt{3} i, \\quad y : 0\\right \\}, \\quad \\left \\{ x : \\sqrt{3} i, \\quad y : 0\\right \\}\\right ]$$"
      ],
      "text/plain": [
       "[{x: 0, y: 0}, {x: -√3⋅ⅈ, y: 0}, {x: √3⋅ⅈ, y: 0}]"
      ]
     },
     "metadata": {},
     "output_type": "display_data"
    },
    {
     "data": {
      "text/html": [
       "<b><i>f''(x)>0</i></b>"
      ],
      "text/plain": [
       "<IPython.core.display.HTML object>"
      ]
     },
     "metadata": {},
     "output_type": "display_data"
    },
    {
     "data": {
      "image/png": "[encoded data removed]",
      "text/latex": [
       "$$\\left(-1 < x \\wedge x < 0\\right) \\vee \\left(1 < x \\wedge x < \\infty\\right)$$"
      ],
      "text/plain": [
       "(-1 < x ∧ x < 0) ∨ (1 < x ∧ x < ∞)"
      ]
     },
     "metadata": {},
     "output_type": "display_data"
    },
    {
     "data": {
      "image/png": "[encoded data removed]",
      "text/plain": [
       "<matplotlib.figure.Figure at 0x7f453857e748>"
      ]
     },
     "metadata": {},
     "output_type": "display_data"
    },
    {
     "data": {
      "text/plain": [
       "<sympy.plotting.plot.Plot at 0x7f4538371e10>"
      ]
     },
     "execution_count": 29,
     "metadata": {},
     "output_type": "execute_result"
    }
   ],
   "source": [
    "y_second = symbols(\"y''\")\n",
    "D2f = simplify(diff(Df))\n",
    "display(Eq(y_second,D2f))\n",
    "display(HTML(\"<b><i>f''(x)=0</i></b>\"))\n",
    "display(solve([y-D2f, y]))\n",
    "display(HTML(\"<b><i>f''(x)>0</i></b>\"))\n",
    "display(solve(D2f>0))\n",
    "plot(D2f, title=\"y=f''(x)\", xlabel=xlabel, ylabel=ylabel, xlim=xlim, ylim=ylim)"
   ]
  },
  {
   "cell_type": "code",
   "execution_count": null,
   "metadata": {},
   "outputs": [],
   "source": []
  }
 ],
 "metadata": {
  "kernelspec": {
   "display_name": "Python 3",
   "language": "python",
   "name": "python3"
  },
  "language_info": {
   "codemirror_mode": {
    "name": "ipython",
    "version": 3
   },
   "file_extension": ".py",
   "mimetype": "text/x-python",
   "name": "python",
   "nbconvert_exporter": "python",
   "pygments_lexer": "ipython3",
   "version": "3.6.4"
  }
 },
 "nbformat": 4,
 "nbformat_minor": 2
}
